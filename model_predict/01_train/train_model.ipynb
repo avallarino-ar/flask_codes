{
 "cells": [
  {
   "cell_type": "markdown",
   "metadata": {
    "colab_type": "text",
    "id": "z5MdlIsEHjJf"
   },
   "source": [
    "# Support Vector Machines\n",
    "## Acamica - Bitácora 25\n",
    "\n",
    "## 1. Preprocesamiento y Entrenamiento de Modelo\n",
    "\n",
    "Vamos a trabajar con el dataset de Social Networks Ads, un conjunto de datos que permiten determinar si un usuario compró o no un producto en particular.  \n",
    "Tanto el dataset como su descripción los pueden encontrar en [Kaggle](https://www.kaggle.com/rakeshrau/social-network-ads).\n",
    "\n",
    "### 1.1. Analisis exploratorio\n",
    "### Columnas del dataset:\n",
    "* User ID: identificación de usuario.\n",
    "* Gender: género.\n",
    "* Age: edad.\n",
    "* EstimatedSalary: salario estimado.\n",
    "* Purchased: compró/no compró un producto en particular."
   ]
  },
  {
   "cell_type": "markdown",
   "metadata": {
    "colab_type": "text",
    "id": "LUgGMm6qHjJh"
   },
   "source": [
    "Importar las librerías necesarias y carga el dataset."
   ]
  },
  {
   "cell_type": "code",
   "execution_count": 1,
   "metadata": {
    "colab": {},
    "colab_type": "code",
    "id": "d-y5b_RPHjJl"
   },
   "outputs": [],
   "source": [
    "import numpy as np\n",
    "import matplotlib.pyplot as plt\n",
    "import pandas as pd"
   ]
  },
  {
   "cell_type": "code",
   "execution_count": 2,
   "metadata": {
    "colab": {},
    "colab_type": "code",
    "id": "zE2a49aVHjJw",
    "outputId": "6bcb7fc2-ac9b-4691-83b9-5f4c7beed5d1"
   },
   "outputs": [
    {
     "data": {
      "text/html": [
       "<div>\n",
       "<style scoped>\n",
       "    .dataframe tbody tr th:only-of-type {\n",
       "        vertical-align: middle;\n",
       "    }\n",
       "\n",
       "    .dataframe tbody tr th {\n",
       "        vertical-align: top;\n",
       "    }\n",
       "\n",
       "    .dataframe thead th {\n",
       "        text-align: right;\n",
       "    }\n",
       "</style>\n",
       "<table border=\"1\" class=\"dataframe\">\n",
       "  <thead>\n",
       "    <tr style=\"text-align: right;\">\n",
       "      <th></th>\n",
       "      <th>User ID</th>\n",
       "      <th>Gender</th>\n",
       "      <th>Age</th>\n",
       "      <th>EstimatedSalary</th>\n",
       "      <th>Purchased</th>\n",
       "    </tr>\n",
       "  </thead>\n",
       "  <tbody>\n",
       "    <tr>\n",
       "      <th>0</th>\n",
       "      <td>15624510</td>\n",
       "      <td>Male</td>\n",
       "      <td>19</td>\n",
       "      <td>19000</td>\n",
       "      <td>0</td>\n",
       "    </tr>\n",
       "    <tr>\n",
       "      <th>1</th>\n",
       "      <td>15810944</td>\n",
       "      <td>Male</td>\n",
       "      <td>35</td>\n",
       "      <td>20000</td>\n",
       "      <td>0</td>\n",
       "    </tr>\n",
       "    <tr>\n",
       "      <th>2</th>\n",
       "      <td>15668575</td>\n",
       "      <td>Female</td>\n",
       "      <td>26</td>\n",
       "      <td>43000</td>\n",
       "      <td>0</td>\n",
       "    </tr>\n",
       "    <tr>\n",
       "      <th>3</th>\n",
       "      <td>15603246</td>\n",
       "      <td>Female</td>\n",
       "      <td>27</td>\n",
       "      <td>57000</td>\n",
       "      <td>0</td>\n",
       "    </tr>\n",
       "    <tr>\n",
       "      <th>4</th>\n",
       "      <td>15804002</td>\n",
       "      <td>Male</td>\n",
       "      <td>19</td>\n",
       "      <td>76000</td>\n",
       "      <td>0</td>\n",
       "    </tr>\n",
       "    <tr>\n",
       "      <th>5</th>\n",
       "      <td>15728773</td>\n",
       "      <td>Male</td>\n",
       "      <td>27</td>\n",
       "      <td>58000</td>\n",
       "      <td>0</td>\n",
       "    </tr>\n",
       "    <tr>\n",
       "      <th>6</th>\n",
       "      <td>15598044</td>\n",
       "      <td>Female</td>\n",
       "      <td>27</td>\n",
       "      <td>84000</td>\n",
       "      <td>0</td>\n",
       "    </tr>\n",
       "    <tr>\n",
       "      <th>7</th>\n",
       "      <td>15694829</td>\n",
       "      <td>Female</td>\n",
       "      <td>32</td>\n",
       "      <td>150000</td>\n",
       "      <td>1</td>\n",
       "    </tr>\n",
       "    <tr>\n",
       "      <th>8</th>\n",
       "      <td>15600575</td>\n",
       "      <td>Male</td>\n",
       "      <td>25</td>\n",
       "      <td>33000</td>\n",
       "      <td>0</td>\n",
       "    </tr>\n",
       "    <tr>\n",
       "      <th>9</th>\n",
       "      <td>15727311</td>\n",
       "      <td>Female</td>\n",
       "      <td>35</td>\n",
       "      <td>65000</td>\n",
       "      <td>0</td>\n",
       "    </tr>\n",
       "  </tbody>\n",
       "</table>\n",
       "</div>"
      ],
      "text/plain": [
       "    User ID  Gender  Age  EstimatedSalary  Purchased\n",
       "0  15624510    Male   19            19000          0\n",
       "1  15810944    Male   35            20000          0\n",
       "2  15668575  Female   26            43000          0\n",
       "3  15603246  Female   27            57000          0\n",
       "4  15804002    Male   19            76000          0\n",
       "5  15728773    Male   27            58000          0\n",
       "6  15598044  Female   27            84000          0\n",
       "7  15694829  Female   32           150000          1\n",
       "8  15600575    Male   25            33000          0\n",
       "9  15727311  Female   35            65000          0"
      ]
     },
     "execution_count": 2,
     "metadata": {},
     "output_type": "execute_result"
    }
   ],
   "source": [
    "dataset = pd.read_csv('ads.csv')\n",
    "dataset.head(10)"
   ]
  },
  {
   "cell_type": "markdown",
   "metadata": {
    "colab_type": "text",
    "id": "fpp_XwsOHjJ6"
   },
   "source": [
    "### 1.2. Preprocesamiento\n",
    "Sólo vamos a utilizar como features las columnas `Age` y `EstimatedSalary`, y como target a la columna `Purchased`"
   ]
  },
  {
   "cell_type": "code",
   "execution_count": 4,
   "metadata": {
    "colab": {},
    "colab_type": "code",
    "id": "Kbn5-NdOHjJ9"
   },
   "outputs": [],
   "source": [
    "X = dataset.iloc[:, [2, 3]].values\n",
    "Y = dataset.iloc[:, 4].values"
   ]
  },
  {
   "cell_type": "markdown",
   "metadata": {
    "colab_type": "text",
    "id": "nCe2rc2MHjKF"
   },
   "source": [
    "Separamos los datos de entrenamiento de los datos de prueba:"
   ]
  },
  {
   "cell_type": "code",
   "execution_count": 5,
   "metadata": {
    "colab": {},
    "colab_type": "code",
    "id": "FJfwaadlHjKG"
   },
   "outputs": [],
   "source": [
    "from sklearn.model_selection import train_test_split\n",
    "\n",
    "x_train, x_test, y_train, y_test = train_test_split(X, Y, test_size = 0.25, random_state=42)"
   ]
  },
  {
   "cell_type": "markdown",
   "metadata": {
    "colab_type": "text",
    "id": "5CoOAvktHjKQ"
   },
   "source": [
    "### 1.3. Entrenamiento de modelo\n",
    "Estandarizamos los datos y entrenamos un SVM:"
   ]
  },
  {
   "cell_type": "code",
   "execution_count": 6,
   "metadata": {
    "colab": {},
    "colab_type": "code",
    "id": "mQQlaTW-HjKb",
    "outputId": "c02f399e-2fa2-47a9-88b2-b64411ef5ba0"
   },
   "outputs": [],
   "source": [
    "from sklearn.pipeline import Pipeline\n",
    "from sklearn.preprocessing import StandardScaler\n",
    "from sklearn.svm import SVC\n",
    "\n",
    "steps = [('scaler', StandardScaler()),\n",
    "         ('clf', SVC(kernel='linear', random_state=42))]\n",
    "\n",
    "pipeline = Pipeline(steps)\n",
    "clf = pipeline.fit(x_train, y_train)"
   ]
  },
  {
   "cell_type": "markdown",
   "metadata": {
    "colab_type": "text",
    "id": "GnoL1DUJHjKm"
   },
   "source": [
    "### 1.4. Predicciones y validación\n",
    "Realizamos las predicciones sobre los datos de prueba:"
   ]
  },
  {
   "cell_type": "code",
   "execution_count": 7,
   "metadata": {},
   "outputs": [
    {
     "data": {
      "text/plain": [
       "array([0, 1, 0, 1, 0, 0, 1, 0, 0, 0, 0, 1, 0, 0, 0, 0, 1, 1, 0, 1, 0, 0,\n",
       "       0, 1, 0, 0, 1, 0, 1, 0, 0, 0, 1, 0, 1, 0, 0, 0, 0, 0, 0, 0, 0, 0,\n",
       "       0, 1, 0, 0, 0, 0, 0, 1, 0, 0, 0, 0, 1, 0, 0, 0, 0, 0, 1, 0, 0, 0,\n",
       "       1, 1, 0, 0, 1, 0, 0, 0, 0, 0, 1, 1, 0, 0, 0, 0, 1, 0, 1, 0, 0, 1,\n",
       "       0, 0, 1, 0, 0, 0, 0, 0, 1, 0, 1, 0])"
      ]
     },
     "execution_count": 7,
     "metadata": {},
     "output_type": "execute_result"
    }
   ],
   "source": [
    "y_pred = clf.predict(x_test)\n",
    "y_pred"
   ]
  },
  {
   "cell_type": "markdown",
   "metadata": {
    "colab_type": "text",
    "id": "lwJFgw4BHjK5"
   },
   "source": [
    "Visualizamos los resultados mediante una Matriz de confusión"
   ]
  },
  {
   "cell_type": "code",
   "execution_count": 8,
   "metadata": {
    "colab": {},
    "colab_type": "code",
    "id": "JXurNfmZHjK6",
    "outputId": "165e259d-cdc9-4460-f525-dcd8beae923f"
   },
   "outputs": [
    {
     "data": {
      "image/png": "[encoded data removed]",
      "text/plain": [
       "<Figure size 864x576 with 1 Axes>"
      ]
     },
     "metadata": {
      "needs_background": "light"
     },
     "output_type": "display_data"
    }
   ],
   "source": [
    "# Matriz de confusión \n",
    "from sklearn.metrics import confusion_matrix, classification_report\n",
    "cm = confusion_matrix(y_test, y_pred)\n",
    "\n",
    "fig, ax = plt.subplots(figsize=(12,8))\n",
    "ax.matshow(cm)\n",
    "plt.title('Matriz de Confusión', fontsize=20)\n",
    "plt.ylabel('Etiqueta Verdadera', fontsize=15)\n",
    "plt.xlabel('Etiqueta Predicha', fontsize=15)\n",
    "for (i, j), z in np.ndenumerate(cm):\n",
    "    ax.text(j, i, '{:0.1f}'.format(z), ha='center', va='center')"
   ]
  },
  {
   "cell_type": "markdown",
   "metadata": {},
   "source": [
    "## 2. Guardar modelo entrenado\n",
    "Guardamos el modelo entrenado como un pickle"
   ]
  },
  {
   "cell_type": "code",
   "execution_count": 9,
   "metadata": {},
   "outputs": [],
   "source": [
    "import pickle\n",
    "\n",
    "pickle.dump(clf, open('model.pkl','wb'))"
   ]
  },
  {
   "cell_type": "markdown",
   "metadata": {},
   "source": [
    "## 3. Cargar modelo entrenado\n",
    "Cargamos el modelo entrenado y lo utilizamos para hacer predicciones"
   ]
  },
  {
   "cell_type": "code",
   "execution_count": 10,
   "metadata": {},
   "outputs": [],
   "source": [
    "model = pickle.load(open('model.pkl','rb'))"
   ]
  },
  {
   "cell_type": "code",
   "execution_count": 15,
   "metadata": {},
   "outputs": [
    {
     "data": {
      "text/plain": [
       "array([0])"
      ]
     },
     "execution_count": 15,
     "metadata": {},
     "output_type": "execute_result"
    }
   ],
   "source": [
    "age=25\n",
    "salary=150000\n",
    "\n",
    "model.predict(np.array([[age, salary]]))"
   ]
  },
  {
   "cell_type": "markdown",
   "metadata": {},
   "source": [
    "## 4. App Flask \n",
    "Crear un archivo `app.py` con el siguiente código.   \n",
    "Se debe tener en cuenta que esta app hace uso de librerías como `flask`, `pickle`"
   ]
  },
  {
   "cell_type": "code",
   "execution_count": null,
   "metadata": {},
   "outputs": [],
   "source": [
    "import os\n",
    "import pandas as pd \n",
    "import numpy as np \n",
    "import flask\n",
    "import pickle\n",
    "from flask import Flask, render_template, request, jsonify\n",
    "\n",
    "app=Flask(__name__)\n",
    "\n",
    "@app.route(\"/test\", methods=[\"GET\"])\n",
    "def ping():\n",
    "    \"\"\"\n",
    "    Metodo para probar que la app esté funcionando correctamente.\n",
    "    Ejecución: http://host:port/test\n",
    "    \"\"\"\n",
    "    return jsonify({\"response\": \"Running...\"})\n",
    "\n",
    "\n",
    "@app.route('/')\n",
    "def index():\n",
    "    \"\"\"\n",
    "    Metodo para acceder a la portada inicial de la app.\n",
    "    Ejecución: http://host:port\n",
    "    \"\"\" \n",
    "    return flask.render_template('index.html')\n",
    "\n",
    "def ValuePredictor(to_predict_list):\n",
    "    \"\"\"\n",
    "    Función que carga el modelo previamente entrenado y obtiene la predicción de los nuevos datos\n",
    "    \"\"\"\n",
    "    to_predict = np.array(to_predict_list).reshape(1,2)\n",
    "    loaded_model = pickle.load(open('model.pkl','rb'))\n",
    "    result = loaded_model.predict(to_predict)\n",
    "    return result[0]\n",
    "\n",
    "\n",
    "@app.route('/predict',methods = ['GET'])\n",
    "def result():\n",
    "    \"\"\"\n",
    "    Metodo para capturar los parametros de entrada y retornar el resultado de la predicción.\n",
    "    Ejecución: Se ejecuta desde un FORM HTML en la página templates/index.html\n",
    "    \"\"\"\n",
    "    if request.method == 'GET':\n",
    "        to_predict_list = request.form.to_dict()\n",
    "        to_predict_list=list(to_predict_list.values())\n",
    "        to_predict_list = list(map(float, to_predict_list))\n",
    "        result = ValuePredictor(to_predict_list)\n",
    "        \n",
    "        if result == 1:\n",
    "            prediction = \"Compra\"\n",
    "        else:\n",
    "            prediction = \"No Compra\"\n",
    "        \n",
    "        return render_template('index.html', prediction=prediction)\n",
    "\n",
    "\n",
    "\n",
    "@app.route('/predict/params')\n",
    "def result_params():\n",
    "    \"\"\"\n",
    "    Metodo para calcular una predicción pasando los valores como parámetros en la URL y \n",
    "    retorna un JSON con el resultado.\n",
    "    Ejecución: http://127.0.0.1:5000/predict/params?edad=XX&salario=YYYYY\n",
    "    \"\"\"\n",
    "    args = request.args\n",
    "    edad = args.get(\"edad\")\n",
    "    salario = args.get(\"salario\")\n",
    "\n",
    "    result = ValuePredictor([int(edad), int(salario)])\n",
    "    if result == 1:\n",
    "        prediction = \"Compra\"\n",
    "    else:\n",
    "        prediction = \"No Compra\"\n",
    "\n",
    "    return jsonify({\"prediccion\": prediction})\n",
    "    \n",
    "\n",
    "if __name__ == '__main__':\n",
    "    app.run(debug=True)"
   ]
  }
 ],
 "metadata": {
  "colab": {
   "name": "DS_Encuentro_25_SVM_RESUELTO.ipynb",
   "provenance": []
  },
  "kernelspec": {
   "display_name": "Python 3",
   "language": "python",
   "name": "python3"
  },
  "language_info": {
   "codemirror_mode": {
    "name": "ipython",
    "version": 3
   },
   "file_extension": ".py",
   "mimetype": "text/x-python",
   "name": "python",
   "nbconvert_exporter": "python",
   "pygments_lexer": "ipython3",
   "version": "3.8.0"
  }
 },
 "nbformat": 4,
 "nbformat_minor": 4
}
